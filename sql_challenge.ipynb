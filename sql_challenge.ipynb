{
 "cells": [
  {
   "cell_type": "code",
   "execution_count": 6,
   "metadata": {},
   "outputs": [
    {
     "name": "stdout",
     "output_type": "stream",
     "text": [
      "Requirement already satisfied: psycopg2 in c:\\users\\abdul\\anaconda3\\envs\\pythondata\\lib\\site-packages (2.8.6)\n",
      "departments\n"
     ]
    }
   ],
   "source": [
    "import os\n",
    "import sys\n",
    "import psycopg2\n",
    "%matplotlib inline\n",
    "import pandas as pd\n",
    "from datetime import datetime\n",
    "import matplotlib.pyplot as plt\n",
    "from IPython.display import display\n",
    "from sqlalchemy import create_engine\n",
    "!{sys.executable} -m pip install psycopg2\n",
    "from config import user_name, password, host, port, database_name\n",
    "\n",
    "# Getting all data with 'Pandas' (optional for understanding)\n",
    "data_dir = 'data/'\n",
    "data_files = os.listdir(data_dir)\n",
    "print(data_files[0][:-4])\n",
    "\n",
    "data = {}\n",
    "for file in data_files:\n",
    "    data[file[:-4]] = pd.read_csv(data_dir + file)"
   ]
  },
  {
   "cell_type": "code",
   "execution_count": 7,
   "metadata": {},
   "outputs": [
    {
     "ename": "UndefinedTable",
     "evalue": "relation \"employees\" does not exist\nLINE 1: select * from employees\n                      ^\n",
     "output_type": "error",
     "traceback": [
      "\u001b[1;31m---------------------------------------------------------------------------\u001b[0m",
      "\u001b[1;31mUndefinedTable\u001b[0m                            Traceback (most recent call last)",
      "\u001b[1;32m<ipython-input-7-d7b3ffcb14ac>\u001b[0m in \u001b[0;36m<module>\u001b[1;34m\u001b[0m\n\u001b[0;32m      7\u001b[0m \u001b[0mcursor\u001b[0m \u001b[1;33m=\u001b[0m \u001b[0mconnection\u001b[0m\u001b[1;33m.\u001b[0m\u001b[0mcursor\u001b[0m\u001b[1;33m(\u001b[0m\u001b[1;33m)\u001b[0m\u001b[1;33m\u001b[0m\u001b[1;33m\u001b[0m\u001b[0m\n\u001b[0;32m      8\u001b[0m \u001b[0memp_select_query\u001b[0m \u001b[1;33m=\u001b[0m \u001b[1;34m\"select * from employees\"\u001b[0m\u001b[1;33m\u001b[0m\u001b[1;33m\u001b[0m\u001b[0m\n\u001b[1;32m----> 9\u001b[1;33m \u001b[0mcursor\u001b[0m\u001b[1;33m.\u001b[0m\u001b[0mexecute\u001b[0m\u001b[1;33m(\u001b[0m\u001b[0memp_select_query\u001b[0m\u001b[1;33m)\u001b[0m\u001b[1;33m\u001b[0m\u001b[1;33m\u001b[0m\u001b[0m\n\u001b[0m\u001b[0;32m     10\u001b[0m \u001b[0memp_records\u001b[0m \u001b[1;33m=\u001b[0m \u001b[0mcursor\u001b[0m\u001b[1;33m.\u001b[0m\u001b[0mfetchall\u001b[0m\u001b[1;33m(\u001b[0m\u001b[1;33m)\u001b[0m\u001b[1;33m\u001b[0m\u001b[1;33m\u001b[0m\u001b[0m\n\u001b[0;32m     11\u001b[0m \u001b[1;33m\u001b[0m\u001b[0m\n",
      "\u001b[1;31mUndefinedTable\u001b[0m: relation \"employees\" does not exist\nLINE 1: select * from employees\n                      ^\n"
     ]
    }
   ],
   "source": [
    "connection = psycopg2.connect(user = user_name,\n",
    "                              password = password,\n",
    "                              host = host,\n",
    "                              port = port,\n",
    "                              database = database_name)\n",
    "\n",
    "cursor = connection.cursor()\n",
    "emp_select_query = \"select * from employees\"\n",
    "cursor.execute(emp_select_query)\n",
    "emp_records = cursor.fetchall()\n",
    "\n",
    "print(\"Total number of rows in 'Employees Table' is: \", cursor.rowcount)\n",
    "\n",
    "employees_df = pd.DataFrame(emp_records)\n",
    "\n",
    "print('Shape of \"Employees Table\"', employees_df.shape)\n",
    "\n",
    "connection.commit()\n",
    "\n",
    "salaries_select_query = \"select * from salaries\"\n",
    "cursor.execute(salaries_select_query)\n",
    "sal_records = cursor.fetchall()\n",
    "\n",
    "print(\"Total number of rows in 'Salaries Table' is: \", cursor.rowcount)\n",
    "\n",
    "salaries_df = pd.DataFrame(sal_records)\n",
    "\n",
    "print('Shape of \"Salaries Table\"', salaries_df.shape)\n",
    "\n",
    "comb_df = pd.merge(employees_df, salaries_df, left_on = 0, right_on = 0)"
   ]
  },
  {
   "cell_type": "code",
   "execution_count": 5,
   "metadata": {},
   "outputs": [
    {
     "ename": "NameError",
     "evalue": "name 'salaries_df' is not defined",
     "output_type": "error",
     "traceback": [
      "\u001b[1;31m---------------------------------------------------------------------------\u001b[0m",
      "\u001b[1;31mNameError\u001b[0m                                 Traceback (most recent call last)",
      "\u001b[1;32m<ipython-input-5-abacc3e9a626>\u001b[0m in \u001b[0;36m<module>\u001b[1;34m\u001b[0m\n\u001b[0;32m      1\u001b[0m \u001b[0mplt\u001b[0m\u001b[1;33m.\u001b[0m\u001b[0mfigure\u001b[0m\u001b[1;33m(\u001b[0m\u001b[0mfigsize\u001b[0m \u001b[1;33m=\u001b[0m \u001b[1;33m[\u001b[0m\u001b[1;36m10\u001b[0m\u001b[1;33m,\u001b[0m \u001b[1;36m8\u001b[0m\u001b[1;33m]\u001b[0m\u001b[1;33m)\u001b[0m\u001b[1;33m\u001b[0m\u001b[1;33m\u001b[0m\u001b[0m\n\u001b[0;32m      2\u001b[0m \u001b[1;33m\u001b[0m\u001b[0m\n\u001b[1;32m----> 3\u001b[1;33m \u001b[0msalaries_df\u001b[0m\u001b[1;33m[\u001b[0m\u001b[1;36m1\u001b[0m\u001b[1;33m]\u001b[0m\u001b[1;33m.\u001b[0m\u001b[0mhist\u001b[0m\u001b[1;33m(\u001b[0m\u001b[0mcolor\u001b[0m \u001b[1;33m=\u001b[0m \u001b[1;34m\"indigo\"\u001b[0m\u001b[1;33m)\u001b[0m\u001b[1;33m\u001b[0m\u001b[1;33m\u001b[0m\u001b[0m\n\u001b[0m\u001b[0;32m      4\u001b[0m \u001b[1;33m\u001b[0m\u001b[0m\n\u001b[0;32m      5\u001b[0m \u001b[0mplt\u001b[0m\u001b[1;33m.\u001b[0m\u001b[0mxlabel\u001b[0m\u001b[1;33m(\u001b[0m\u001b[1;34m'Employees'\u001b[0m\u001b[1;33m,\u001b[0m \u001b[0msize\u001b[0m \u001b[1;33m=\u001b[0m \u001b[1;36m13\u001b[0m\u001b[1;33m,\u001b[0m \u001b[0mfontweight\u001b[0m \u001b[1;33m=\u001b[0m \u001b[1;34m'bold'\u001b[0m\u001b[1;33m,\u001b[0m \u001b[0mc\u001b[0m \u001b[1;33m=\u001b[0m \u001b[1;34m'crimson'\u001b[0m\u001b[1;33m)\u001b[0m\u001b[1;33m\u001b[0m\u001b[1;33m\u001b[0m\u001b[0m\n",
      "\u001b[1;31mNameError\u001b[0m: name 'salaries_df' is not defined"
     ]
    },
    {
     "data": {
      "text/plain": [
       "<Figure size 720x576 with 0 Axes>"
      ]
     },
     "metadata": {},
     "output_type": "display_data"
    }
   ],
   "source": [
    "plt.figure(figsize = [10, 8])\n",
    "\n",
    "salaries_df[1].hist(color = \"indigo\")\n",
    "\n",
    "plt.xlabel('Employees', size = 13, fontweight = 'bold', c = 'crimson')\n",
    "plt.ylabel('Salaries', size = 13, fontweight = 'bold', c = 'crimson')\n",
    "plt.title('Employees: Most Common Salary Ranges', size = 13, fontweight = 'bold', c = 'crimson')\n",
    "plt.xticks(fontsize = 10, rotation = 'horizontal', fontweight = 'bold', c = 'dimgray')\n",
    "plt.yticks(fontsize = 10, rotation = 'horizontal', fontweight = 'bold', c = 'dimgray')\n",
    "plt.grid(True)\n",
    "\n",
    "# Method # 1 of displaying 'date' and 'time'\n",
    "print(f'Date:', datetime.now().strftime(\"%d-%m-%Y\\nTime: %H:%M:%S\"))\n",
    "\n",
    "plt.show()\n",
    "\n",
    "print('Note: This histogram shows the relationship between employees and the most common salaries (of employees).')"
   ]
  },
  {
   "cell_type": "code",
   "execution_count": 4,
   "metadata": {},
   "outputs": [
    {
     "ename": "NameError",
     "evalue": "name 'comb_df' is not defined",
     "output_type": "error",
     "traceback": [
      "\u001b[1;31m---------------------------------------------------------------------------\u001b[0m",
      "\u001b[1;31mNameError\u001b[0m                                 Traceback (most recent call last)",
      "\u001b[1;32m<ipython-input-4-f3000680a6af>\u001b[0m in \u001b[0;36m<module>\u001b[1;34m\u001b[0m\n\u001b[0;32m      2\u001b[0m \u001b[1;33m\u001b[0m\u001b[0m\n\u001b[0;32m      3\u001b[0m \u001b[1;33m\u001b[0m\u001b[0m\n\u001b[1;32m----> 4\u001b[1;33m \u001b[0msalaries_df_gb_mean\u001b[0m \u001b[1;33m=\u001b[0m \u001b[0mcomb_df\u001b[0m\u001b[1;33m.\u001b[0m\u001b[0mgroupby\u001b[0m\u001b[1;33m(\u001b[0m\u001b[1;34m'1_x'\u001b[0m\u001b[1;33m)\u001b[0m\u001b[1;33m[\u001b[0m\u001b[1;34m'1_y'\u001b[0m\u001b[1;33m]\u001b[0m\u001b[1;33m.\u001b[0m\u001b[0mmean\u001b[0m\u001b[1;33m(\u001b[0m\u001b[1;33m)\u001b[0m\u001b[1;33m\u001b[0m\u001b[1;33m\u001b[0m\u001b[0m\n\u001b[0m\u001b[0;32m      5\u001b[0m \u001b[0mgraph\u001b[0m \u001b[1;33m=\u001b[0m \u001b[0msalaries_df_gb_mean\u001b[0m\u001b[1;33m.\u001b[0m\u001b[0mplot\u001b[0m\u001b[1;33m.\u001b[0m\u001b[0mbar\u001b[0m\u001b[1;33m(\u001b[0m\u001b[0mx\u001b[0m \u001b[1;33m=\u001b[0m \u001b[1;36m0\u001b[0m\u001b[1;33m,\u001b[0m \u001b[0my\u001b[0m \u001b[1;33m=\u001b[0m \u001b[1;36m1\u001b[0m\u001b[1;33m,\u001b[0m \u001b[0mwidth\u001b[0m \u001b[1;33m=\u001b[0m \u001b[1;36m0.7\u001b[0m\u001b[1;33m,\u001b[0m \u001b[0mcolor\u001b[0m \u001b[1;33m=\u001b[0m \u001b[1;34m\"indigo\"\u001b[0m\u001b[1;33m)\u001b[0m\u001b[1;33m\u001b[0m\u001b[1;33m\u001b[0m\u001b[0m\n\u001b[0;32m      6\u001b[0m \u001b[1;33m\u001b[0m\u001b[0m\n",
      "\u001b[1;31mNameError\u001b[0m: name 'comb_df' is not defined"
     ]
    },
    {
     "data": {
      "text/plain": [
       "<Figure size 720x360 with 0 Axes>"
      ]
     },
     "metadata": {},
     "output_type": "display_data"
    }
   ],
   "source": [
    "plt.figure(figsize = (10, 5))\n",
    "\n",
    "\n",
    "salaries_df_gb_mean = comb_df.groupby('1_x')['1_y'].mean()\n",
    "graph = salaries_df_gb_mean.plot.bar(x = 0, y = 1, width = 0.7, color = \"indigo\")\n",
    "\n",
    "plt.xlabel('(Employee) Titles', size = 13, fontweight = 'bold', c = 'crimson')\n",
    "plt.ylabel('Salaries', size = 13, fontweight = 'bold', c = 'crimson')\n",
    "plt.title('Average Salaries by (Employee) Title', size = 13, fontweight = 'bold', c = 'crimson')\n",
    "plt.xticks(fontsize = 10, rotation = 'horizontal', fontweight = 'bold', c = 'dimgray')\n",
    "plt.yticks(fontsize = 10, rotation = 'horizontal', fontweight = 'bold', c = 'dimgray')\n",
    "\n",
    "# Method # 2 of displaying 'date' and 'time'\n",
    "now = datetime.now()\n",
    "print(f'Date:', now.strftime(\"%d-%m-%Y\\nTime: %H:%M:%S\"))\n",
    "\n",
    "plt.show()\n",
    "\n",
    "print('Note: This bar chart shows the relationship between employees (by their respective title) and\\n      average salaries of employees (by their respective titles).')"
   ]
  },
  {
   "cell_type": "code",
   "execution_count": null,
   "metadata": {},
   "outputs": [],
   "source": []
  }
 ],
 "metadata": {
  "kernelspec": {
   "display_name": "Python 3",
   "language": "python",
   "name": "python3"
  },
  "language_info": {
   "codemirror_mode": {
    "name": "ipython",
    "version": 3
   },
   "file_extension": ".py",
   "mimetype": "text/x-python",
   "name": "python",
   "nbconvert_exporter": "python",
   "pygments_lexer": "ipython3",
   "version": "3.8.6"
  }
 },
 "nbformat": 4,
 "nbformat_minor": 4
}
